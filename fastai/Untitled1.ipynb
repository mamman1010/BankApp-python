{
 "cells": [
  {
   "cell_type": "code",
   "execution_count": null,
   "id": "adb146a3",
   "metadata": {},
   "outputs": [],
   "source": [
    "#banking app for test\n",
    "import random\n",
    "database = {}\n",
    "\n",
    "def bankWelcomeNote():\n",
    "    print(\"Welcome to the bank of the future\")\n",
    "    haveAccount = int(input(\"Do you have an account with us? 1 (yes) 0 (no) \\n\"))\n",
    "    if (haveAccount == 1):\n",
    "        login()\n",
    "    elif (haveAccount == 0):\n",
    "        registration()\n",
    "    else:\n",
    "        print(\"You have selected an invalid option\")\n",
    "def login():\n",
    "    print(\"Please type in your log in details \\n\")\n",
    "    accountNumberFromUser = int(input(\"What is your account number? \\n\"))\n",
    "    password = input(\"What is your password? \\n\")\n",
    "    \n",
    "    for accountNumber, userDetails in database.items():\n",
    "        if(accountNumber == accountNumberFromUser):\n",
    "            if(userDetails[3] == password):\n",
    "                isLoginSuccessful = True\n",
    "    bankOperation(userDetails)\n",
    "    \n",
    "def registration():\n",
    "    print(\"Please fill in the form to register\")\n",
    "    print(\"Please type in your first name\")\n",
    "    first_name = input( \"first_name \\n\")\n",
    "    print(\"Please type in your last name\")\n",
    "    last_name = input( \"last_name \\n\")\n",
    "    print(\"Please type in your email\")\n",
    "    email = input()\n",
    "    print(\"Please choose your password\")\n",
    "    password = input()\n",
    "    print(\"Please input the amount you want to deposit\")\n",
    "    deposit = int(input())\n",
    "    accountNumber = bankAccountNumber() \n",
    "    print(\"Welcome to the future!\")\n",
    "    database[accountNumber] = [first_name, last_name, email, password, deposit]\n",
    "    print(\"You account number is: %d\" % accountNumber)\n",
    "    login()\n",
    "\n",
    "def bankAccountNumber():\n",
    "    print(\"printing account number, please wait...\")\n",
    "    return random.randrange(111111111,999999999)\n",
    "\n",
    "def bankOperation(userDetails):\n",
    "    option = int(input(\"Welcome, please select an option 1 (Deposit) 2 (withdraw) 3 (Check balance) 4 (exit) \\n\"))\n",
    "    if (option == 1):\n",
    "        bankDeposit()\n",
    "    elif (option == 2):\n",
    "        bankWithdrawal()\n",
    "    elif (option == 3):\n",
    "        checkBalance()\n",
    "    else:\n",
    "        bankWelcome()\n",
    "def bankWithdrawal(user):\n",
    "    pass\n",
    "def bankDeposit():\n",
    "    pass\n",
    "def checkBalance():\n",
    "    print(\"Your account balance is\" + deposit)"
   ]
  },
  {
   "cell_type": "code",
   "execution_count": null,
   "id": "fa7dbc31",
   "metadata": {
    "scrolled": false
   },
   "outputs": [],
   "source": [
    "bankWelcomeNote()"
   ]
  }
 ],
 "metadata": {
  "kernelspec": {
   "display_name": "Python 3 (ipykernel)",
   "language": "python",
   "name": "python3"
  },
  "language_info": {
   "codemirror_mode": {
    "name": "ipython",
    "version": 3
   },
   "file_extension": ".py",
   "mimetype": "text/x-python",
   "name": "python",
   "nbconvert_exporter": "python",
   "pygments_lexer": "ipython3",
   "version": "3.9.12"
  }
 },
 "nbformat": 4,
 "nbformat_minor": 5
}
